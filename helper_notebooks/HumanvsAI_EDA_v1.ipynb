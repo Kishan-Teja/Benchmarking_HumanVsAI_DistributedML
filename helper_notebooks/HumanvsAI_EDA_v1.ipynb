{
 "cells": [
  {
   "cell_type": "code",
   "execution_count": 1,
   "id": "0f0875ad-fdde-45db-b798-9820db158535",
   "metadata": {},
   "outputs": [],
   "source": [
    "import pandas as pd\n",
    "import numpy as np\n",
    "import matplotlib.pyplot as plt"
   ]
  },
  {
   "cell_type": "code",
   "execution_count": 2,
   "id": "05c99b95-422b-418d-a0e2-0f55cd4b3728",
   "metadata": {},
   "outputs": [],
   "source": [
    "data = pd.read_csv('data.csv')"
   ]
  },
  {
   "cell_type": "code",
   "execution_count": 3,
   "id": "69c7c801-a2c8-4d3c-a96a-7290ef4850bc",
   "metadata": {},
   "outputs": [
    {
     "data": {
      "text/plain": [
       "788922"
      ]
     },
     "execution_count": 3,
     "metadata": {},
     "output_type": "execute_result"
    }
   ],
   "source": [
    "len(data)"
   ]
  },
  {
   "cell_type": "code",
   "execution_count": 4,
   "id": "33b4dd53-5f6f-4c7e-98fa-19bff69cde2d",
   "metadata": {},
   "outputs": [
    {
     "data": {
      "text/html": [
       "<div>\n",
       "<style scoped>\n",
       "    .dataframe tbody tr th:only-of-type {\n",
       "        vertical-align: middle;\n",
       "    }\n",
       "\n",
       "    .dataframe tbody tr th {\n",
       "        vertical-align: top;\n",
       "    }\n",
       "\n",
       "    .dataframe thead th {\n",
       "        text-align: right;\n",
       "    }\n",
       "</style>\n",
       "<table border=\"1\" class=\"dataframe\">\n",
       "  <thead>\n",
       "    <tr style=\"text-align: right;\">\n",
       "      <th></th>\n",
       "      <th>text</th>\n",
       "      <th>source</th>\n",
       "      <th>prompt_id</th>\n",
       "      <th>text_length</th>\n",
       "      <th>word_count</th>\n",
       "    </tr>\n",
       "  </thead>\n",
       "  <tbody>\n",
       "    <tr>\n",
       "      <th>0</th>\n",
       "      <td>Federal law supersedes state law, and cannabis...</td>\n",
       "      <td>Bloom-7B</td>\n",
       "      <td>0</td>\n",
       "      <td>967</td>\n",
       "      <td>157</td>\n",
       "    </tr>\n",
       "    <tr>\n",
       "      <th>1</th>\n",
       "      <td>Miles feels restless after working all day. He...</td>\n",
       "      <td>Bloom-7B</td>\n",
       "      <td>0</td>\n",
       "      <td>5068</td>\n",
       "      <td>778</td>\n",
       "    </tr>\n",
       "    <tr>\n",
       "      <th>2</th>\n",
       "      <td>So first of I am danish. That means that I fol...</td>\n",
       "      <td>Bloom-7B</td>\n",
       "      <td>0</td>\n",
       "      <td>1602</td>\n",
       "      <td>267</td>\n",
       "    </tr>\n",
       "    <tr>\n",
       "      <th>3</th>\n",
       "      <td>In this paper we present a novel rule-based ap...</td>\n",
       "      <td>Bloom-7B</td>\n",
       "      <td>0</td>\n",
       "      <td>5469</td>\n",
       "      <td>848</td>\n",
       "    </tr>\n",
       "    <tr>\n",
       "      <th>4</th>\n",
       "      <td>Most social progressives, love democracy, and ...</td>\n",
       "      <td>Bloom-7B</td>\n",
       "      <td>0</td>\n",
       "      <td>2379</td>\n",
       "      <td>380</td>\n",
       "    </tr>\n",
       "  </tbody>\n",
       "</table>\n",
       "</div>"
      ],
      "text/plain": [
       "                                                text    source  prompt_id  \\\n",
       "0  Federal law supersedes state law, and cannabis...  Bloom-7B          0   \n",
       "1  Miles feels restless after working all day. He...  Bloom-7B          0   \n",
       "2  So first of I am danish. That means that I fol...  Bloom-7B          0   \n",
       "3  In this paper we present a novel rule-based ap...  Bloom-7B          0   \n",
       "4  Most social progressives, love democracy, and ...  Bloom-7B          0   \n",
       "\n",
       "   text_length  word_count  \n",
       "0          967         157  \n",
       "1         5068         778  \n",
       "2         1602         267  \n",
       "3         5469         848  \n",
       "4         2379         380  "
      ]
     },
     "execution_count": 4,
     "metadata": {},
     "output_type": "execute_result"
    }
   ],
   "source": [
    "data.head(5)"
   ]
  },
  {
   "cell_type": "code",
   "execution_count": 5,
   "id": "6d1a62b0-e4d3-448a-bd7f-263224a3382f",
   "metadata": {},
   "outputs": [
    {
     "data": {
      "text/plain": [
       "source\n",
       "Human                       347692\n",
       "GPT-3.5                      52346\n",
       "Text-Davinci-003             22860\n",
       "Text-Davinci-002             21436\n",
       "OPT-1.3B                     18467\n",
       "                             ...  \n",
       "Toppy-M-7B                     433\n",
       "LLaMA-2-7B                     409\n",
       "Dolphin-Mixtral-8x7B           407\n",
       "Cohere-Command                 390\n",
       "Dolphin-2.5-Mixtral-8x7B       228\n",
       "Name: count, Length: 63, dtype: int64"
      ]
     },
     "execution_count": 5,
     "metadata": {},
     "output_type": "execute_result"
    }
   ],
   "source": [
    "data.source.value_counts()"
   ]
  },
  {
   "cell_type": "code",
   "execution_count": 6,
   "id": "832ef99c-1e9f-49cc-bf99-b72f3752b646",
   "metadata": {},
   "outputs": [
    {
     "data": {
      "text/plain": [
       "array(['Bloom-7B', 'Claude-Instant-v1', 'Claude-v1', 'Cohere-Command',\n",
       "       'Dolphin-2.5-Mixtral-8x7B', 'Dolphin-Mixtral-8x7B', 'Falcon-180B',\n",
       "       'Flan-T5-Base', 'Flan-T5-Large', 'Flan-T5-Small', 'Flan-T5-XL',\n",
       "       'Flan-T5-XXL', 'GLM-130B', 'GPT-3.5', 'GPT-4', 'GPT-J', 'GPT-NeoX',\n",
       "       'Gemini-Pro', 'Goliath-120B', 'Human', 'LLaMA-13B', 'LLaMA-2-70B',\n",
       "       'LLaMA-2-7B', 'LLaMA-30B', 'LLaMA-65B', 'LLaMA-7B', 'LZLV-70B',\n",
       "       'Mistral-7B', 'Mistral-7B-OpenOrca', 'Mixtral-8x7B',\n",
       "       'MythoMax-L2-13B', 'Neural-Chat-7B', 'Noromaid-20B',\n",
       "       'Nous-Capybara-34B', 'Nous-Capybara-7B', 'Nous-Hermes-LLaMA-2-13B',\n",
       "       'Nous-Hermes-LLaMA-2-70B', 'OPT-1.3B', 'OPT-125M', 'OPT-13B',\n",
       "       'OPT-2.7B', 'OPT-30B', 'OPT-350M', 'OPT-6.7B', 'OpenChat-3.5',\n",
       "       'OpenHermes-2-Mistral-7B', 'OpenHermes-2.5-Mistral-7B', 'PaLM-2',\n",
       "       'Psyfighter-13B', 'Psyfighter-2-13B', 'RWKV-5-World-3B',\n",
       "       'StripedHyena-Nous-7B', 'T0-11B', 'T0-3B', 'Text-Ada-001',\n",
       "       'Text-Babbage-001', 'Text-Curie-001', 'Text-Davinci-001',\n",
       "       'Text-Davinci-002', 'Text-Davinci-003', 'Toppy-M-7B', 'Unknown',\n",
       "       'YI-34B'], dtype=object)"
      ]
     },
     "execution_count": 6,
     "metadata": {},
     "output_type": "execute_result"
    }
   ],
   "source": [
    "data.source.unique()"
   ]
  },
  {
   "cell_type": "code",
   "execution_count": 7,
   "id": "0709a536-b506-43e7-925e-b50bd4e64b23",
   "metadata": {},
   "outputs": [
    {
     "data": {
      "text/plain": [
       "source\n",
       "Human                       0.440718\n",
       "GPT-3.5                     0.066351\n",
       "Text-Davinci-003            0.028976\n",
       "Text-Davinci-002            0.027171\n",
       "OPT-1.3B                    0.023408\n",
       "                              ...   \n",
       "Toppy-M-7B                  0.000549\n",
       "LLaMA-2-7B                  0.000518\n",
       "Dolphin-Mixtral-8x7B        0.000516\n",
       "Cohere-Command              0.000494\n",
       "Dolphin-2.5-Mixtral-8x7B    0.000289\n",
       "Name: count, Length: 63, dtype: float64"
      ]
     },
     "execution_count": 7,
     "metadata": {},
     "output_type": "execute_result"
    }
   ],
   "source": [
    "data.source.value_counts()/len(data)"
   ]
  },
  {
   "cell_type": "code",
   "execution_count": 9,
   "id": "37e35e46-e490-40e6-a026-9e1f6214c5c2",
   "metadata": {},
   "outputs": [],
   "source": [
    "from sklearn.model_selection import train_test_split"
   ]
  },
  {
   "cell_type": "code",
   "execution_count": 16,
   "id": "3f6011b8-c06d-44de-a274-e2b9f10c345c",
   "metadata": {},
   "outputs": [
    {
     "name": "stdout",
     "output_type": "stream",
     "text": [
      "Training set size: 631137\n",
      "Test set size: 157785\n"
     ]
    }
   ],
   "source": []
  },
  {
   "cell_type": "code",
   "execution_count": 17,
   "id": "a687f04a-74ea-4a34-ae25-976d220b66e1",
   "metadata": {},
   "outputs": [
    {
     "name": "stdout",
     "output_type": "stream",
     "text": [
      "Training set size: 504909\n",
      "Val set size: 126228\n"
     ]
    }
   ],
   "source": []
  },
  {
   "cell_type": "code",
   "execution_count": 18,
   "id": "2e7ea69c-70e1-47ca-a955-51713e3a5c09",
   "metadata": {},
   "outputs": [],
   "source": []
  },
  {
   "cell_type": "code",
   "execution_count": 22,
   "id": "a7669718-dd63-46ad-97e3-b291cb6872b9",
   "metadata": {},
   "outputs": [
    {
     "data": {
      "text/plain": [
       "890119"
      ]
     },
     "execution_count": 22,
     "metadata": {},
     "output_type": "execute_result"
    }
   ],
   "source": [
    "data['text_length'].max()"
   ]
  },
  {
   "cell_type": "code",
   "execution_count": 23,
   "id": "707fd65d-5800-4ef6-98a8-b84cb0348967",
   "metadata": {},
   "outputs": [
    {
     "data": {
      "text/html": [
       "<div>\n",
       "<style scoped>\n",
       "    .dataframe tbody tr th:only-of-type {\n",
       "        vertical-align: middle;\n",
       "    }\n",
       "\n",
       "    .dataframe tbody tr th {\n",
       "        vertical-align: top;\n",
       "    }\n",
       "\n",
       "    .dataframe thead th {\n",
       "        text-align: right;\n",
       "    }\n",
       "</style>\n",
       "<table border=\"1\" class=\"dataframe\">\n",
       "  <thead>\n",
       "    <tr style=\"text-align: right;\">\n",
       "      <th></th>\n",
       "      <th>text</th>\n",
       "      <th>source</th>\n",
       "      <th>prompt_id</th>\n",
       "      <th>text_length</th>\n",
       "      <th>word_count</th>\n",
       "    </tr>\n",
       "  </thead>\n",
       "  <tbody>\n",
       "    <tr>\n",
       "      <th>191180</th>\n",
       "      <td>Paper Recycling: Environmental and Business Is...</td>\n",
       "      <td>Human</td>\n",
       "      <td>0</td>\n",
       "      <td>890119</td>\n",
       "      <td>20083</td>\n",
       "    </tr>\n",
       "  </tbody>\n",
       "</table>\n",
       "</div>"
      ],
      "text/plain": [
       "                                                     text source  prompt_id  \\\n",
       "191180  Paper Recycling: Environmental and Business Is...  Human          0   \n",
       "\n",
       "        text_length  word_count  \n",
       "191180       890119       20083  "
      ]
     },
     "execution_count": 23,
     "metadata": {},
     "output_type": "execute_result"
    }
   ],
   "source": [
    "data[data['text_length'] == data['text_length'].max()]"
   ]
  },
  {
   "cell_type": "code",
   "execution_count": 25,
   "id": "f327f729-d68d-4703-ad81-cfd09af78977",
   "metadata": {},
   "outputs": [
    {
     "data": {
      "image/png": "[encoded data removed]",
      "text/plain": [
       "<Figure size 1000x600 with 1 Axes>"
      ]
     },
     "metadata": {},
     "output_type": "display_data"
    }
   ],
   "source": [
    "plt.figure(figsize=(10, 6))\n",
    "plt.hist(data['text_length'], bins=30, color='blue', alpha=0.7)\n",
    "plt.title('Distribution of Text Length')\n",
    "plt.xlabel('Text Length')\n",
    "plt.ylabel('Frequency')\n",
    "plt.grid(True)\n",
    "plt.show()\n"
   ]
  },
  {
   "cell_type": "code",
   "execution_count": 27,
   "id": "e08d16a4-f63e-4902-8999-682a00617b0f",
   "metadata": {},
   "outputs": [
    {
     "data": {
      "image/png": "[encoded data removed]",
      "text/plain": [
       "<Figure size 1000x600 with 1 Axes>"
      ]
     },
     "metadata": {},
     "output_type": "display_data"
    }
   ],
   "source": [
    "plt.figure(figsize=(10, 6))\n",
    "plt.boxplot(data['text_length'], vert=False)\n",
    "plt.title('Box Plot of Text Length')\n",
    "plt.xlabel('Text Length')\n",
    "plt.grid(True)\n",
    "plt.show()\n"
   ]
  },
  {
   "cell_type": "code",
   "execution_count": 28,
   "id": "7cf82c7b-4d1d-434f-983d-395edc6c3324",
   "metadata": {},
   "outputs": [
    {
     "data": {
      "text/plain": [
       "count    788922.000000\n",
       "mean       3123.374844\n",
       "std        4963.074433\n",
       "min         105.000000\n",
       "25%         647.000000\n",
       "50%        1921.000000\n",
       "75%        3910.000000\n",
       "max      890119.000000\n",
       "Name: text_length, dtype: float64"
      ]
     },
     "execution_count": 28,
     "metadata": {},
     "output_type": "execute_result"
    }
   ],
   "source": [
    "data['text_length'].describe()"
   ]
  },
  {
   "cell_type": "code",
   "execution_count": 29,
   "id": "31c6cc17-3b45-4517-9a53-858cec4a207e",
   "metadata": {},
   "outputs": [
    {
     "name": "stdout",
     "output_type": "stream",
     "text": [
      "The 95th percentile of text length is: 10134.0\n"
     ]
    }
   ],
   "source": [
    "percentile_95 = data['text_length'].quantile(0.95)\n",
    "print(\"The 95th percentile of text length is:\", percentile_95)"
   ]
  },
  {
   "cell_type": "code",
   "execution_count": 30,
   "id": "cab2577d-63f1-429c-aa12-90b9dd032b50",
   "metadata": {},
   "outputs": [],
   "source": [
    "data_fil = data[data['text_length'] <= 2000]"
   ]
  },
  {
   "cell_type": "code",
   "execution_count": 41,
   "id": "fff3329f-350f-4d53-8016-d6a109195a18",
   "metadata": {},
   "outputs": [
    {
     "data": {
      "text/html": [
       "<div>\n",
       "<style scoped>\n",
       "    .dataframe tbody tr th:only-of-type {\n",
       "        vertical-align: middle;\n",
       "    }\n",
       "\n",
       "    .dataframe tbody tr th {\n",
       "        vertical-align: top;\n",
       "    }\n",
       "\n",
       "    .dataframe thead th {\n",
       "        text-align: right;\n",
       "    }\n",
       "</style>\n",
       "<table border=\"1\" class=\"dataframe\">\n",
       "  <thead>\n",
       "    <tr style=\"text-align: right;\">\n",
       "      <th></th>\n",
       "      <th>text</th>\n",
       "      <th>source</th>\n",
       "      <th>prompt_id</th>\n",
       "      <th>text_length</th>\n",
       "      <th>word_count</th>\n",
       "    </tr>\n",
       "  </thead>\n",
       "  <tbody>\n",
       "    <tr>\n",
       "      <th>0</th>\n",
       "      <td>Federal law supersedes state law, and cannabis...</td>\n",
       "      <td>Bloom-7B</td>\n",
       "      <td>0</td>\n",
       "      <td>967</td>\n",
       "      <td>157</td>\n",
       "    </tr>\n",
       "    <tr>\n",
       "      <th>2</th>\n",
       "      <td>So first of I am danish. That means that I fol...</td>\n",
       "      <td>Bloom-7B</td>\n",
       "      <td>0</td>\n",
       "      <td>1602</td>\n",
       "      <td>267</td>\n",
       "    </tr>\n",
       "    <tr>\n",
       "      <th>5</th>\n",
       "      <td>finally gets the fish up onto the ice and he s...</td>\n",
       "      <td>Bloom-7B</td>\n",
       "      <td>0</td>\n",
       "      <td>374</td>\n",
       "      <td>72</td>\n",
       "    </tr>\n",
       "    <tr>\n",
       "      <th>7</th>\n",
       "      <td>pulled back the lawn mower and then moved it f...</td>\n",
       "      <td>Bloom-7B</td>\n",
       "      <td>0</td>\n",
       "      <td>1818</td>\n",
       "      <td>328</td>\n",
       "    </tr>\n",
       "    <tr>\n",
       "      <th>9</th>\n",
       "      <td>\"AHHHHHH!\" I shrieked. The flames had erupted ...</td>\n",
       "      <td>Bloom-7B</td>\n",
       "      <td>0</td>\n",
       "      <td>1381</td>\n",
       "      <td>252</td>\n",
       "    </tr>\n",
       "    <tr>\n",
       "      <th>...</th>\n",
       "      <td>...</td>\n",
       "      <td>...</td>\n",
       "      <td>...</td>\n",
       "      <td>...</td>\n",
       "      <td>...</td>\n",
       "    </tr>\n",
       "    <tr>\n",
       "      <th>786818</th>\n",
       "      <td>\\nA four-day work week with each day consistin...</td>\n",
       "      <td>YI-34B</td>\n",
       "      <td>5595</td>\n",
       "      <td>1093</td>\n",
       "      <td>169</td>\n",
       "    </tr>\n",
       "    <tr>\n",
       "      <th>786840</th>\n",
       "      <td>\\nIn the bustling heart of the digital age, wh...</td>\n",
       "      <td>YI-34B</td>\n",
       "      <td>6024</td>\n",
       "      <td>1974</td>\n",
       "      <td>314</td>\n",
       "    </tr>\n",
       "    <tr>\n",
       "      <th>787117</th>\n",
       "      <td>\\nTitle: The Intersection of Climate Change an...</td>\n",
       "      <td>YI-34B</td>\n",
       "      <td>1356</td>\n",
       "      <td>1596</td>\n",
       "      <td>233</td>\n",
       "    </tr>\n",
       "    <tr>\n",
       "      <th>787121</th>\n",
       "      <td>\\nThe influence of music on memory recall is a...</td>\n",
       "      <td>YI-34B</td>\n",
       "      <td>3941</td>\n",
       "      <td>1240</td>\n",
       "      <td>204</td>\n",
       "    </tr>\n",
       "    <tr>\n",
       "      <th>788518</th>\n",
       "      <td>\\nIn the realm of hospitality, the allure of 5...</td>\n",
       "      <td>YI-34B</td>\n",
       "      <td>4388</td>\n",
       "      <td>1871</td>\n",
       "      <td>287</td>\n",
       "    </tr>\n",
       "  </tbody>\n",
       "</table>\n",
       "<p>403844 rows × 5 columns</p>\n",
       "</div>"
      ],
      "text/plain": [
       "                                                     text    source  \\\n",
       "0       Federal law supersedes state law, and cannabis...  Bloom-7B   \n",
       "2       So first of I am danish. That means that I fol...  Bloom-7B   \n",
       "5       finally gets the fish up onto the ice and he s...  Bloom-7B   \n",
       "7       pulled back the lawn mower and then moved it f...  Bloom-7B   \n",
       "9       \"AHHHHHH!\" I shrieked. The flames had erupted ...  Bloom-7B   \n",
       "...                                                   ...       ...   \n",
       "786818  \\nA four-day work week with each day consistin...    YI-34B   \n",
       "786840  \\nIn the bustling heart of the digital age, wh...    YI-34B   \n",
       "787117  \\nTitle: The Intersection of Climate Change an...    YI-34B   \n",
       "787121  \\nThe influence of music on memory recall is a...    YI-34B   \n",
       "788518  \\nIn the realm of hospitality, the allure of 5...    YI-34B   \n",
       "\n",
       "        prompt_id  text_length  word_count  \n",
       "0               0          967         157  \n",
       "2               0         1602         267  \n",
       "5               0          374          72  \n",
       "7               0         1818         328  \n",
       "9               0         1381         252  \n",
       "...           ...          ...         ...  \n",
       "786818       5595         1093         169  \n",
       "786840       6024         1974         314  \n",
       "787117       1356         1596         233  \n",
       "787121       3941         1240         204  \n",
       "788518       4388         1871         287  \n",
       "\n",
       "[403844 rows x 5 columns]"
      ]
     },
     "execution_count": 41,
     "metadata": {},
     "output_type": "execute_result"
    }
   ],
   "source": [
    "data_fil"
   ]
  },
  {
   "cell_type": "code",
   "execution_count": 37,
   "id": "87afafe6-3f80-47f9-ab88-219d8a2629a0",
   "metadata": {},
   "outputs": [
    {
     "name": "stdout",
     "output_type": "stream",
     "text": [
      "                 Unique_Value  Counts\n",
      "0                       Human  160275\n",
      "1            Text-Davinci-003   21680\n",
      "2                     GPT-3.5   20273\n",
      "3            Text-Davinci-002   19549\n",
      "4                     OPT-30B   14476\n",
      "..                        ...     ...\n",
      "58    Nous-Hermes-LLaMA-2-70B       4\n",
      "59                 Toppy-M-7B       3\n",
      "60  OpenHermes-2.5-Mistral-7B       2\n",
      "61    OpenHermes-2-Mistral-7B       2\n",
      "62   Dolphin-2.5-Mixtral-8x7B       2\n",
      "\n",
      "[63 rows x 2 columns]\n"
     ]
    }
   ],
   "source": [
    "value_counts_series = data_fil['source'].value_counts()\n",
    "\n",
    "# Convert to DataFrame\n",
    "value_counts_df = value_counts_series.reset_index()\n",
    "value_counts_df.columns = ['Unique_Value', 'Counts']  # Rename columns for clarity\n",
    "\n",
    "print(value_counts_df)"
   ]
  },
  {
   "cell_type": "code",
   "execution_count": 40,
   "id": "511f96c8-77df-405e-a60f-ff794775614b",
   "metadata": {},
   "outputs": [
    {
     "data": {
      "text/html": [
       "<div>\n",
       "<style scoped>\n",
       "    .dataframe tbody tr th:only-of-type {\n",
       "        vertical-align: middle;\n",
       "    }\n",
       "\n",
       "    .dataframe tbody tr th {\n",
       "        vertical-align: top;\n",
       "    }\n",
       "\n",
       "    .dataframe thead th {\n",
       "        text-align: right;\n",
       "    }\n",
       "</style>\n",
       "<table border=\"1\" class=\"dataframe\">\n",
       "  <thead>\n",
       "    <tr style=\"text-align: right;\">\n",
       "      <th></th>\n",
       "      <th>Unique_Value</th>\n",
       "      <th>Counts</th>\n",
       "    </tr>\n",
       "  </thead>\n",
       "  <tbody>\n",
       "    <tr>\n",
       "      <th>0</th>\n",
       "      <td>Human</td>\n",
       "      <td>160275</td>\n",
       "    </tr>\n",
       "    <tr>\n",
       "      <th>1</th>\n",
       "      <td>Text-Davinci-003</td>\n",
       "      <td>21680</td>\n",
       "    </tr>\n",
       "    <tr>\n",
       "      <th>2</th>\n",
       "      <td>GPT-3.5</td>\n",
       "      <td>20273</td>\n",
       "    </tr>\n",
       "    <tr>\n",
       "      <th>3</th>\n",
       "      <td>Text-Davinci-002</td>\n",
       "      <td>19549</td>\n",
       "    </tr>\n",
       "    <tr>\n",
       "      <th>4</th>\n",
       "      <td>OPT-30B</td>\n",
       "      <td>14476</td>\n",
       "    </tr>\n",
       "    <tr>\n",
       "      <th>5</th>\n",
       "      <td>OPT-1.3B</td>\n",
       "      <td>14078</td>\n",
       "    </tr>\n",
       "    <tr>\n",
       "      <th>6</th>\n",
       "      <td>T0-3B</td>\n",
       "      <td>9219</td>\n",
       "    </tr>\n",
       "    <tr>\n",
       "      <th>7</th>\n",
       "      <td>Flan-T5-Base</td>\n",
       "      <td>9182</td>\n",
       "    </tr>\n",
       "    <tr>\n",
       "      <th>8</th>\n",
       "      <td>Flan-T5-Large</td>\n",
       "      <td>9151</td>\n",
       "    </tr>\n",
       "    <tr>\n",
       "      <th>9</th>\n",
       "      <td>Flan-T5-Small</td>\n",
       "      <td>9141</td>\n",
       "    </tr>\n",
       "    <tr>\n",
       "      <th>10</th>\n",
       "      <td>Flan-T5-XL</td>\n",
       "      <td>8974</td>\n",
       "    </tr>\n",
       "    <tr>\n",
       "      <th>11</th>\n",
       "      <td>Flan-T5-XXL</td>\n",
       "      <td>8728</td>\n",
       "    </tr>\n",
       "    <tr>\n",
       "      <th>12</th>\n",
       "      <td>T0-11B</td>\n",
       "      <td>8705</td>\n",
       "    </tr>\n",
       "    <tr>\n",
       "      <th>13</th>\n",
       "      <td>OPT-2.7B</td>\n",
       "      <td>6869</td>\n",
       "    </tr>\n",
       "    <tr>\n",
       "      <th>14</th>\n",
       "      <td>OPT-125M</td>\n",
       "      <td>6630</td>\n",
       "    </tr>\n",
       "    <tr>\n",
       "      <th>15</th>\n",
       "      <td>OPT-6.7B</td>\n",
       "      <td>6590</td>\n",
       "    </tr>\n",
       "    <tr>\n",
       "      <th>16</th>\n",
       "      <td>OPT-13B</td>\n",
       "      <td>6480</td>\n",
       "    </tr>\n",
       "    <tr>\n",
       "      <th>17</th>\n",
       "      <td>GPT-NeoX</td>\n",
       "      <td>6299</td>\n",
       "    </tr>\n",
       "    <tr>\n",
       "      <th>18</th>\n",
       "      <td>Bloom-7B</td>\n",
       "      <td>5782</td>\n",
       "    </tr>\n",
       "    <tr>\n",
       "      <th>19</th>\n",
       "      <td>OPT-350M</td>\n",
       "      <td>5440</td>\n",
       "    </tr>\n",
       "    <tr>\n",
       "      <th>20</th>\n",
       "      <td>Unknown</td>\n",
       "      <td>5095</td>\n",
       "    </tr>\n",
       "    <tr>\n",
       "      <th>21</th>\n",
       "      <td>LLaMA-65B</td>\n",
       "      <td>4891</td>\n",
       "    </tr>\n",
       "    <tr>\n",
       "      <th>22</th>\n",
       "      <td>LLaMA-30B</td>\n",
       "      <td>4856</td>\n",
       "    </tr>\n",
       "    <tr>\n",
       "      <th>23</th>\n",
       "      <td>LLaMA-13B</td>\n",
       "      <td>4234</td>\n",
       "    </tr>\n",
       "    <tr>\n",
       "      <th>24</th>\n",
       "      <td>GPT-J</td>\n",
       "      <td>3545</td>\n",
       "    </tr>\n",
       "    <tr>\n",
       "      <th>25</th>\n",
       "      <td>LLaMA-7B</td>\n",
       "      <td>3472</td>\n",
       "    </tr>\n",
       "    <tr>\n",
       "      <th>26</th>\n",
       "      <td>GLM-130B</td>\n",
       "      <td>3214</td>\n",
       "    </tr>\n",
       "    <tr>\n",
       "      <th>27</th>\n",
       "      <td>Mistral-7B</td>\n",
       "      <td>2743</td>\n",
       "    </tr>\n",
       "    <tr>\n",
       "      <th>28</th>\n",
       "      <td>Falcon-180B</td>\n",
       "      <td>1614</td>\n",
       "    </tr>\n",
       "    <tr>\n",
       "      <th>29</th>\n",
       "      <td>PaLM-2</td>\n",
       "      <td>1348</td>\n",
       "    </tr>\n",
       "    <tr>\n",
       "      <th>30</th>\n",
       "      <td>Claude-Instant-v1</td>\n",
       "      <td>1127</td>\n",
       "    </tr>\n",
       "    <tr>\n",
       "      <th>31</th>\n",
       "      <td>LZLV-70B</td>\n",
       "      <td>1026</td>\n",
       "    </tr>\n",
       "    <tr>\n",
       "      <th>32</th>\n",
       "      <td>Text-Davinci-001</td>\n",
       "      <td>1026</td>\n",
       "    </tr>\n",
       "  </tbody>\n",
       "</table>\n",
       "</div>"
      ],
      "text/plain": [
       "         Unique_Value  Counts\n",
       "0               Human  160275\n",
       "1    Text-Davinci-003   21680\n",
       "2             GPT-3.5   20273\n",
       "3    Text-Davinci-002   19549\n",
       "4             OPT-30B   14476\n",
       "5            OPT-1.3B   14078\n",
       "6               T0-3B    9219\n",
       "7        Flan-T5-Base    9182\n",
       "8       Flan-T5-Large    9151\n",
       "9       Flan-T5-Small    9141\n",
       "10         Flan-T5-XL    8974\n",
       "11        Flan-T5-XXL    8728\n",
       "12             T0-11B    8705\n",
       "13           OPT-2.7B    6869\n",
       "14           OPT-125M    6630\n",
       "15           OPT-6.7B    6590\n",
       "16            OPT-13B    6480\n",
       "17           GPT-NeoX    6299\n",
       "18           Bloom-7B    5782\n",
       "19           OPT-350M    5440\n",
       "20            Unknown    5095\n",
       "21          LLaMA-65B    4891\n",
       "22          LLaMA-30B    4856\n",
       "23          LLaMA-13B    4234\n",
       "24              GPT-J    3545\n",
       "25           LLaMA-7B    3472\n",
       "26           GLM-130B    3214\n",
       "27         Mistral-7B    2743\n",
       "28        Falcon-180B    1614\n",
       "29             PaLM-2    1348\n",
       "30  Claude-Instant-v1    1127\n",
       "31           LZLV-70B    1026\n",
       "32   Text-Davinci-001    1026"
      ]
     },
     "execution_count": 40,
     "metadata": {},
     "output_type": "execute_result"
    }
   ],
   "source": [
    "value_counts_df[value_counts_df['Counts'] >= 1000].unique"
   ]
  },
  {
   "cell_type": "code",
   "execution_count": 44,
   "id": "28780f37-206f-4eda-a1e3-e2a1326a211f",
   "metadata": {},
   "outputs": [],
   "source": [
    "filter_source_list=value_counts_df[value_counts_df['Counts'] >= 1000]['Unique_Value'].unique().tolist()"
   ]
  },
  {
   "cell_type": "code",
   "execution_count": 47,
   "id": "5b4c3171-db3f-4ef5-9d44-fc3f5232bd53",
   "metadata": {},
   "outputs": [],
   "source": [
    "data_fin=data_fil[data_fil['source'].isin(filter_source_list)]"
   ]
  },
  {
   "cell_type": "code",
   "execution_count": 48,
   "id": "18445fb1-cb32-42d2-94c1-977ffcfda8ea",
   "metadata": {},
   "outputs": [
    {
     "name": "stdout",
     "output_type": "stream",
     "text": [
      "Training set size: 316569\n",
      "Test set size: 79143\n"
     ]
    }
   ],
   "source": [
    "# Split the data into training and test sets\n",
    "train_df, test_df = train_test_split(data_fin, test_size=0.2, random_state=42, stratify=data_fin['source'])\n",
    "\n",
    "# Check the split\n",
    "print(f\"Training set size: {len(train_df)}\")\n",
    "print(f\"Test set size: {len(test_df)}\")\n"
   ]
  },
  {
   "cell_type": "code",
   "execution_count": 49,
   "id": "03ca4381-f5df-4273-8e64-fdb56fba1c41",
   "metadata": {},
   "outputs": [
    {
     "name": "stdout",
     "output_type": "stream",
     "text": [
      "Training set size: 253255\n",
      "Val set size: 63314\n"
     ]
    }
   ],
   "source": [
    "# Split the data into training and test sets\n",
    "train_df, val_df = train_test_split(train_df, test_size=0.2, random_state=42, stratify=train_df['source'])\n",
    "\n",
    "# Check the split\n",
    "print(f\"Training set size: {len(train_df)}\")\n",
    "print(f\"Val set size: {len(val_df)}\")\n"
   ]
  },
  {
   "cell_type": "code",
   "execution_count": 50,
   "id": "784c88a9-c5c0-482d-92e4-1eeae282cc4c",
   "metadata": {},
   "outputs": [],
   "source": [
    "train_df.to_csv('train_fil.csv')\n",
    "val_df.to_csv('val_fil.csv')\n",
    "test_df.to_csv('test_fil.csv')"
   ]
  },
  {
   "cell_type": "code",
   "execution_count": null,
   "id": "95ef2f6f-5a08-47ee-8d66-7ba2c4653a08",
   "metadata": {},
   "outputs": [],
   "source": []
  }
 ],
 "metadata": {
  "kernelspec": {
   "display_name": "localization",
   "language": "python",
   "name": "localization"
  },
  "language_info": {
   "codemirror_mode": {
    "name": "ipython",
    "version": 3
   },
   "file_extension": ".py",
   "mimetype": "text/x-python",
   "name": "python",
   "nbconvert_exporter": "python",
   "pygments_lexer": "ipython3",
   "version": "3.12.1"
  }
 },
 "nbformat": 4,
 "nbformat_minor": 5
}
