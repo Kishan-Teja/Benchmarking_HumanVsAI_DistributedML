{
 "cells": [
  {
   "cell_type": "code",
   "execution_count": null,
   "id": "9dcd1c66-38c8-4763-ae67-2b62adc9da78",
   "metadata": {},
   "outputs": [],
   "source": [
    "import pandas as pd\n",
    "import numpy as np\n",
    "import matplotlib.pyplot as plt"
   ]
  },
  {
   "cell_type": "code",
   "execution_count": null,
   "id": "44bdbe6a-693e-4f42-9eae-ed15c27baec1",
   "metadata": {},
   "outputs": [],
   "source": [
    "train = pd.read_csv('train_fil.csv')\n",
    "test = pd.read_csv('test_fil.csv')\n",
    "val = pd.read_csv('val_fil.csv')"
   ]
  },
  {
   "cell_type": "code",
   "execution_count": null,
   "id": "0fab4a3b-cd1d-4473-ad55-28701378ce89",
   "metadata": {},
   "outputs": [],
   "source": [
    "train.head(5)"
   ]
  },
  {
   "cell_type": "code",
   "execution_count": null,
   "id": "d3d7b362-abe4-4958-a5ce-471d5ef78713",
   "metadata": {},
   "outputs": [],
   "source": [
    "from transformers import BertTokenizer, BertModel, GPT2Tokenizer, GPT2Model\n",
    "import torch\n",
    "\n",
    "# Assuming CUDA is available\n",
    "device = torch.device(\"cuda\" if torch.cuda.is_available() else \"cpu\")\n",
    "\n",
    "# Load models with GPU support\n",
    "bert_tokenizer = BertTokenizer.from_pretrained('bert-base-uncased')\n",
    "bert_model = BertModel.from_pretrained('bert-base-uncased').to(device)\n",
    "\n",
    "gpt2_tokenizer = GPT2Tokenizer.from_pretrained('gpt2')\n",
    "gpt2_model = GPT2Model.from_pretrained('gpt2').to(device)\n",
    "\n",
    "# Ensure the model is in evaluation mode\n",
    "bert_model.eval()\n",
    "gpt2_model.eval()"
   ]
  },
  {
   "cell_type": "code",
   "execution_count": null,
   "id": "4e256988-ed98-43bd-98ea-801543360ad2",
   "metadata": {},
   "outputs": [],
   "source": [
    "def get_bert_embeddings(text):\n",
    "    inputs = bert_tokenizer(text, return_tensors='pt', padding=True, truncation=True, max_length=512)\n",
    "    inputs = {k: v.to(device) for k, v in inputs.items()}  # Move input tensors to the GPU\n",
    "    with torch.no_grad():  # Temporarily set all the requires_grad flags to false\n",
    "        outputs = bert_model(**inputs)\n",
    "    return outputs.last_hidden_state.mean(dim=1).detach().cpu().numpy()  # Move embeddings back to CPU\n",
    "\n",
    "gpt2_tokenizer.pad_token = gpt2_tokenizer.eos_token\n",
    "\n",
    "def get_gpt2_embeddings(text):\n",
    "    inputs = gpt2_tokenizer(text, return_tensors='pt', padding=True, truncation=True, max_length=512)\n",
    "    inputs = {k: v.to(device) for k, v in inputs.items()}  # Move input tensors to the GPU\n",
    "    with torch.no_grad():  # Temporarily set all the requires_grad flags to false\n",
    "        outputs = gpt2_model(**inputs)\n",
    "    return outputs.last_hidden_state.mean(dim=1).detach().cpu().numpy()  # Move embeddings back to CPU\n"
   ]
  },
  {
   "cell_type": "code",
   "execution_count": null,
   "id": "f182b5fd-45a7-43a4-96f2-7dfc6036cb37",
   "metadata": {},
   "outputs": [],
   "source": [
    "from tqdm import tqdm\n",
    "# df = train.copy()\n",
    "# Apply the functions to the DataFrame\n",
    "df['bert_embeddings'] = [get_bert_embeddings(text) for text in tqdm(df['text'], desc=\"Generating BERT Embeddings\")]\n",
    "# df['gpt2_embeddings'] = [get_gpt2_embeddings(text) for text in tqdm(df['text'], desc=\"Generating GPT-2 Embeddings\")]"
   ]
  },
  {
   "cell_type": "code",
   "execution_count": null,
   "id": "fdcfacad",
   "metadata": {},
   "outputs": [],
   "source": [
    "from tqdm import tqdm\n",
    "# df = train.copy()\n",
    "# Apply the functions to the DataFrame\n",
    "# df['bert_embeddings'] = [get_bert_embeddings(text) for text in tqdm(df['text'], desc=\"Generating BERT Embeddings\")]\n",
    "df['gpt2_embeddings'] = [get_gpt2_embeddings(text) for text in tqdm(df['text'], desc=\"Generating GPT-2 Embeddings\")]"
   ]
  },
  {
   "cell_type": "code",
   "execution_count": null,
   "id": "d7704e96",
   "metadata": {},
   "outputs": [],
   "source": [
    "df_1 = test.copy()\n",
    "# Apply the functions to the DataFrame\n",
    "df_1['bert_embeddings'] = [get_bert_embeddings(text) for text in tqdm(df_1['text'], desc=\"Generating BERT Embeddings\")]\n",
    "df_1['gpt2_embeddings'] = [get_gpt2_embeddings(text) for text in tqdm(df_1['text'], desc=\"Generating GPT-2 Embeddings\")]\n"
   ]
  },
  {
   "cell_type": "code",
   "execution_count": null,
   "id": "b5503649",
   "metadata": {},
   "outputs": [],
   "source": [
    "df_2 = val.copy()\n",
    "# Apply the functions to the DataFrame\n",
    "df_2['bert_embeddings'] = [get_bert_embeddings(text) for text in tqdm(df_2['text'], desc=\"Generating BERT Embeddings\")]\n",
    "df_2['gpt2_embeddings'] = [get_gpt2_embeddings(text) for text in tqdm(df_2['text'], desc=\"Generating GPT-2 Embeddings\")]"
   ]
  },
  {
   "cell_type": "code",
   "execution_count": null,
   "id": "cb635ba1",
   "metadata": {},
   "outputs": [],
   "source": [
    "def save_as_hdf5(df, name):\n",
    "    # Save the entire DataFrame as an HDF5 file\n",
    "    df.to_hdf(f'{name}.h5', key='data', mode='w')\n",
    "\n",
    "save_as_hdf5(df, 'train_embeddings')\n",
    "save_as_hdf5(df_1, 'test_embeddings')\n",
    "save_as_hdf5(df_2, 'val_embeddings')"
   ]
  },
  {
   "cell_type": "code",
   "execution_count": null,
   "id": "8df268de",
   "metadata": {},
   "outputs": [],
   "source": [
    "df\n"
   ]
  },
  {
   "cell_type": "code",
   "execution_count": null,
   "id": "0acf7b9a",
   "metadata": {},
   "outputs": [],
   "source": [
    "!pip install tables"
   ]
  }
 ],
 "metadata": {
  "kernelspec": {
   "display_name": "Python 3 (ipykernel)",
   "language": "python",
   "name": "python3"
  },
  "language_info": {
   "codemirror_mode": {
    "name": "ipython",
    "version": 3
   },
   "file_extension": ".py",
   "mimetype": "text/x-python",
   "name": "python",
   "nbconvert_exporter": "python",
   "pygments_lexer": "ipython3",
   "version": "3.12.2"
  }
 },
 "nbformat": 4,
 "nbformat_minor": 5
}
