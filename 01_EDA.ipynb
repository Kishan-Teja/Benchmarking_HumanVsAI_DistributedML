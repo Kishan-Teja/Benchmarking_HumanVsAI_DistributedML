{
 "cells": [
  {
   "cell_type": "code",
   "execution_count": null,
   "id": "0f0875ad-fdde-45db-b798-9820db158535",
   "metadata": {},
   "outputs": [],
   "source": [
    "import pandas as pd\n",
    "import numpy as np\n",
    "import matplotlib.pyplot as plt"
   ]
  },
  {
   "cell_type": "code",
   "execution_count": null,
   "id": "05c99b95-422b-418d-a0e2-0f55cd4b3728",
   "metadata": {},
   "outputs": [],
   "source": [
    "data = pd.read_csv('data.csv')"
   ]
  },
  {
   "cell_type": "code",
   "execution_count": null,
   "id": "69c7c801-a2c8-4d3c-a96a-7290ef4850bc",
   "metadata": {},
   "outputs": [],
   "source": [
    "len(data)"
   ]
  },
  {
   "cell_type": "code",
   "execution_count": null,
   "id": "33b4dd53-5f6f-4c7e-98fa-19bff69cde2d",
   "metadata": {},
   "outputs": [],
   "source": [
    "data.head(5)"
   ]
  },
  {
   "cell_type": "code",
   "execution_count": null,
   "id": "6d1a62b0-e4d3-448a-bd7f-263224a3382f",
   "metadata": {},
   "outputs": [],
   "source": [
    "data.source.value_counts()"
   ]
  },
  {
   "cell_type": "code",
   "execution_count": null,
   "id": "832ef99c-1e9f-49cc-bf99-b72f3752b646",
   "metadata": {},
   "outputs": [],
   "source": [
    "data.source.unique()"
   ]
  },
  {
   "cell_type": "code",
   "execution_count": null,
   "id": "0709a536-b506-43e7-925e-b50bd4e64b23",
   "metadata": {},
   "outputs": [],
   "source": [
    "data.source.value_counts()/len(data)"
   ]
  },
  {
   "cell_type": "code",
   "execution_count": null,
   "id": "37e35e46-e490-40e6-a026-9e1f6214c5c2",
   "metadata": {},
   "outputs": [],
   "source": [
    "from sklearn.model_selection import train_test_split"
   ]
  },
  {
   "cell_type": "code",
   "execution_count": null,
   "id": "a7669718-dd63-46ad-97e3-b291cb6872b9",
   "metadata": {},
   "outputs": [],
   "source": [
    "data['text_length'].max()"
   ]
  },
  {
   "cell_type": "code",
   "execution_count": null,
   "id": "707fd65d-5800-4ef6-98a8-b84cb0348967",
   "metadata": {},
   "outputs": [],
   "source": [
    "data[data['text_length'] == data['text_length'].max()]"
   ]
  },
  {
   "cell_type": "code",
   "execution_count": null,
   "id": "f327f729-d68d-4703-ad81-cfd09af78977",
   "metadata": {},
   "outputs": [],
   "source": [
    "plt.figure(figsize=(10, 6))\n",
    "plt.hist(data['text_length'], bins=30, color='blue', alpha=0.7)\n",
    "plt.title('Distribution of Text Length')\n",
    "plt.xlabel('Text Length')\n",
    "plt.ylabel('Frequency')\n",
    "plt.grid(True)\n",
    "plt.show()\n"
   ]
  },
  {
   "cell_type": "code",
   "execution_count": null,
   "id": "e08d16a4-f63e-4902-8999-682a00617b0f",
   "metadata": {},
   "outputs": [],
   "source": [
    "plt.figure(figsize=(10, 6))\n",
    "plt.boxplot(data['text_length'], vert=False)\n",
    "plt.title('Box Plot of Text Length')\n",
    "plt.xlabel('Text Length')\n",
    "plt.grid(True)\n",
    "plt.show()\n"
   ]
  },
  {
   "cell_type": "code",
   "execution_count": null,
   "id": "7cf82c7b-4d1d-434f-983d-395edc6c3324",
   "metadata": {},
   "outputs": [],
   "source": [
    "data['text_length'].describe()"
   ]
  },
  {
   "cell_type": "code",
   "execution_count": null,
   "id": "31c6cc17-3b45-4517-9a53-858cec4a207e",
   "metadata": {},
   "outputs": [],
   "source": [
    "percentile_95 = data['text_length'].quantile(0.95)\n",
    "print(\"The 95th percentile of text length is:\", percentile_95)"
   ]
  },
  {
   "cell_type": "code",
   "execution_count": null,
   "id": "cab2577d-63f1-429c-aa12-90b9dd032b50",
   "metadata": {},
   "outputs": [],
   "source": [
    "data_fil = data[data['text_length'] <= 2000]"
   ]
  },
  {
   "cell_type": "code",
   "execution_count": null,
   "id": "fff3329f-350f-4d53-8016-d6a109195a18",
   "metadata": {},
   "outputs": [],
   "source": [
    "data_fil"
   ]
  },
  {
   "cell_type": "code",
   "execution_count": null,
   "id": "87afafe6-3f80-47f9-ab88-219d8a2629a0",
   "metadata": {},
   "outputs": [],
   "source": [
    "value_counts_series = data_fil['source'].value_counts()\n",
    "\n",
    "# Convert to DataFrame\n",
    "value_counts_df = value_counts_series.reset_index()\n",
    "value_counts_df.columns = ['Unique_Value', 'Counts']  # Rename columns for clarity\n",
    "\n",
    "print(value_counts_df)"
   ]
  },
  {
   "cell_type": "code",
   "execution_count": null,
   "id": "511f96c8-77df-405e-a60f-ff794775614b",
   "metadata": {},
   "outputs": [],
   "source": [
    "value_counts_df[value_counts_df['Counts'] >= 1000].nunique"
   ]
  },
  {
   "cell_type": "code",
   "execution_count": null,
   "id": "28780f37-206f-4eda-a1e3-e2a1326a211f",
   "metadata": {},
   "outputs": [],
   "source": [
    "filter_source_list=value_counts_df[value_counts_df['Counts'] >= 1000]['Unique_Value'].unique().tolist()"
   ]
  },
  {
   "cell_type": "code",
   "execution_count": null,
   "id": "5b4c3171-db3f-4ef5-9d44-fc3f5232bd53",
   "metadata": {},
   "outputs": [],
   "source": [
    "data_fin=data_fil[data_fil['source'].isin(filter_source_list)]"
   ]
  },
  {
   "cell_type": "code",
   "execution_count": null,
   "id": "18445fb1-cb32-42d2-94c1-977ffcfda8ea",
   "metadata": {},
   "outputs": [],
   "source": [
    "# Split the data into training and test sets\n",
    "train_df, test_df = train_test_split(data_fin, test_size=0.2, random_state=42, stratify=data_fin['source'])\n",
    "\n",
    "# Check the split\n",
    "print(f\"Training set size: {len(train_df)}\")\n",
    "print(f\"Test set size: {len(test_df)}\")\n"
   ]
  },
  {
   "cell_type": "code",
   "execution_count": null,
   "id": "03ca4381-f5df-4273-8e64-fdb56fba1c41",
   "metadata": {},
   "outputs": [],
   "source": [
    "# Split the data into training and test sets\n",
    "train_df, val_df = train_test_split(train_df, test_size=0.2, random_state=42, stratify=train_df['source'])\n",
    "\n",
    "# Check the split\n",
    "print(f\"Training set size: {len(train_df)}\")\n",
    "print(f\"Val set size: {len(val_df)}\")\n"
   ]
  },
  {
   "cell_type": "code",
   "execution_count": null,
   "id": "784c88a9-c5c0-482d-92e4-1eeae282cc4c",
   "metadata": {},
   "outputs": [],
   "source": [
    "train_df.to_csv('train_fil.csv')\n",
    "val_df.to_csv('val_fil.csv')\n",
    "test_df.to_csv('test_fil.csv')"
   ]
  }
 ],
 "metadata": {
  "kernelspec": {
   "display_name": "Python 3",
   "language": "python",
   "name": "python3"
  },
  "language_info": {
   "codemirror_mode": {
    "name": "ipython",
    "version": 3
   },
   "file_extension": ".py",
   "mimetype": "text/x-python",
   "name": "python",
   "nbconvert_exporter": "python",
   "pygments_lexer": "ipython3",
   "version": "3.6.13"
  }
 },
 "nbformat": 4,
 "nbformat_minor": 5
}
